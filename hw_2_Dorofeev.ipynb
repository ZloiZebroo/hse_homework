{
 "cells": [
  {
   "cell_type": "code",
   "execution_count": 2,
   "id": "4cf09277",
   "metadata": {},
   "outputs": [],
   "source": [
    "from pyspark.sql import SparkSession\n",
    "from pyspark.sql.functions import col\n",
    "\n",
    "spark = SparkSession.builder.getOrCreate()"
   ]
  },
  {
   "cell_type": "code",
   "execution_count": 3,
   "id": "6da32995",
   "metadata": {},
   "outputs": [],
   "source": [
    "import re\n",
    "import matplotlib.pyplot as plt\n",
    "import pandas as pd"
   ]
  },
  {
   "cell_type": "code",
   "execution_count": 15,
   "id": "405eaeed",
   "metadata": {},
   "outputs": [],
   "source": [
    "df_1 = spark.read.option(\"header\",True).csv(\"/Users/a18223352/Documents/hse/research_seminar_part2/hw_pyspark/data\")"
   ]
  },
  {
   "cell_type": "code",
   "execution_count": 16,
   "id": "91dcf873",
   "metadata": {},
   "outputs": [
    {
     "name": "stdout",
     "output_type": "stream",
     "text": [
      "root\n",
      " |-- words: string (nullable = true)\n",
      "\n"
     ]
    }
   ],
   "source": [
    "df_1.printSchema()"
   ]
  },
  {
   "cell_type": "code",
   "execution_count": 17,
   "id": "5dc57e6d",
   "metadata": {},
   "outputs": [
    {
     "name": "stdout",
     "output_type": "stream",
     "text": [
      "+------------+-----+\n",
      "|       words|count|\n",
      "+------------+-----+\n",
      "|       света|   17|\n",
      "|  оживленной|    1|\n",
      "|      ранний|    2|\n",
      "|       Летой|    1|\n",
      "|     смотрит|    5|\n",
      "|        XVII|    8|\n",
      "|      книжки|    1|\n",
      "|      модных|    8|\n",
      "|      спешит|    4|\n",
      "|        кляч|    1|\n",
      "|     циклопы|    1|\n",
      "|Благословляя|    1|\n",
      "|     прошлой|    2|\n",
      "|     ручьями|    1|\n",
      "|     тяжелым|    1|\n",
      "|        себя|   14|\n",
      "|      куклою|    2|\n",
      "|       завыл|    1|\n",
      "|  Автомедоны|    1|\n",
      "|       ехали|    1|\n",
      "+------------+-----+\n",
      "only showing top 20 rows\n",
      "\n"
     ]
    }
   ],
   "source": [
    "df_1.groupBy('words').count().show()"
   ]
  },
  {
   "cell_type": "code",
   "execution_count": 18,
   "id": "defe807b",
   "metadata": {},
   "outputs": [],
   "source": [
    "df_sorted = df_1.groupBy('words').count().sort(col(\"count\").desc())"
   ]
  },
  {
   "cell_type": "code",
   "execution_count": 19,
   "id": "a36a2ae7",
   "metadata": {},
   "outputs": [
    {
     "name": "stdout",
     "output_type": "stream",
     "text": [
      "+-----+-----+\n",
      "|words|count|\n",
      "+-----+-----+\n",
      "|    И|  564|\n",
      "|    и|  441|\n",
      "|    в|  412|\n",
      "|   не|  272|\n",
      "|    В|  193|\n",
      "|   он|  189|\n",
      "|   на|  173|\n",
      "|   Но|  165|\n",
      "|    с|  164|\n",
      "|    я|  146|\n",
      "+-----+-----+\n",
      "only showing top 10 rows\n",
      "\n"
     ]
    }
   ],
   "source": [
    "df_sorted.show(10)"
   ]
  },
  {
   "cell_type": "code",
   "execution_count": 20,
   "id": "14fd4f71",
   "metadata": {},
   "outputs": [],
   "source": [
    "pd_df = spark.createDataFrame(df_sorted.take(10)).toPandas()"
   ]
  },
  {
   "cell_type": "code",
   "execution_count": 21,
   "id": "a849b9ae",
   "metadata": {},
   "outputs": [
    {
     "data": {
      "image/png": "[encoded data removed]",
      "text/plain": [
       "<Figure size 432x288 with 1 Axes>"
      ]
     },
     "metadata": {
      "needs_background": "light"
     },
     "output_type": "display_data"
    }
   ],
   "source": [
    "fig = plt.figure()\n",
    "ax = fig.add_axes([0,0,1,1])\n",
    "ax.bar(pd_df['words'],pd_df['count'])\n",
    "plt.show()"
   ]
  },
  {
   "cell_type": "code",
   "execution_count": null,
   "id": "ad7b3a18",
   "metadata": {},
   "outputs": [],
   "source": []
  }
 ],
 "metadata": {
  "kernelspec": {
   "display_name": "PyCharm (madmo_improve)",
   "language": "python",
   "name": "pycharm-ddce477c"
  },
  "language_info": {
   "codemirror_mode": {
    "name": "ipython",
    "version": 3
   },
   "file_extension": ".py",
   "mimetype": "text/x-python",
   "name": "python",
   "nbconvert_exporter": "python",
   "pygments_lexer": "ipython3",
   "version": "3.8.10"
  }
 },
 "nbformat": 4,
 "nbformat_minor": 5
}
